{
 "cells": [
  {
   "cell_type": "markdown",
   "id": "b8b42780",
   "metadata": {},
   "source": [
    "Week 1"
   ]
  },
  {
   "cell_type": "markdown",
   "id": "6a8a0eef",
   "metadata": {},
   "source": [
    "1.1.Image Formation. \n",
    "   \n",
    "1.1.1.geometry(了解). \n",
    "    Pinhole camera. \n",
    "    Projective geometry: perspective/affine. \n",
    "    Image distortions. \n",
    "1.1.2.Color module(描述). \n",
    "    RGB:defaule,缺点:correalted channels. \n",
    "    HSV:Intuitive,用在color selection/manipulation,缺点: confound channels. \n",
    "    YCbCr: compression/compute,用在jpeg. \n",
    "    L*a*b*: Perceptually uniform,用在ps. \n",
    "1.1.3.Digitisation:by spatial sampling. \n",
    "    Spatial resolutin: 分辨率依赖像素. \n",
    "    Quantisation(intensity): 2^8^. \n",
    "   \n",
    "2.Image Processing Basic\n",
    "   \n",
    "2.1.Spatial domain operation空间域运算. \n",
    "2.1.1.Point operations点运算,(描述原理,理解强度直方图,定义运算).\n",
    "2.1.1.1.原理\n",
    "    Contrast stretching对比拉伸:  \n",
    "    Intensity thresholding强度阈值:  \n",
    "        Automatic thresholding:  \n",
    "            Otsu. \n",
    "            Isodata. \n",
    "    Multilevel thresholding多级阈值:\n",
    "    Intensity Inversion强度反演:\n",
    "    Log transformation:\n",
    "    Power transformation:\n",
    "    Piecewise Linear transformoation分段线性变换:\n",
    "    Piecewise contrast stretching分段对比拉伸:\n",
    "    Gray-level slicing灰度切片:\n",
    "    Bit-plane slicing位平面切片:\n",
    "2.1.1.2.直方图. \n",
    "    Histogram processing直方图处理:\n",
    "        Histogram equalization直方图均衡. \n",
    "            Constrained受约束的:continuous/discrete. \n",
    "        Histogram specificaion(matching)直方图匹:continuous/discrete. \n",
    "\n",
    "\n",
    "    "
   ]
  }
 ],
 "metadata": {
  "language_info": {
   "name": "python"
  }
 },
 "nbformat": 4,
 "nbformat_minor": 5
}
